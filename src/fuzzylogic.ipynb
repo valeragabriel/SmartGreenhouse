{
 "cells": [
  {
   "cell_type": "code",
   "execution_count": 1,
   "metadata": {},
   "outputs": [
    {
     "name": "stdout",
     "output_type": "stream",
     "text": [
      "Collecting scikit-fuzzy\n",
      "  Using cached scikit_fuzzy-0.4.2-py3-none-any.whl\n",
      "Requirement already satisfied: numpy>=1.6.0 in /Applications/anaconda3/lib/python3.11/site-packages (from scikit-fuzzy) (1.26.1)\n",
      "Requirement already satisfied: scipy>=0.9.0 in /Applications/anaconda3/lib/python3.11/site-packages (from scikit-fuzzy) (1.11.1)\n",
      "Requirement already satisfied: networkx>=1.9.0 in /Applications/anaconda3/lib/python3.11/site-packages (from scikit-fuzzy) (3.1)\n",
      "Installing collected packages: scikit-fuzzy\n",
      "Successfully installed scikit-fuzzy-0.4.2\n"
     ]
    }
   ],
   "source": [
    "!pip install -U scikit-fuzzy"
   ]
  },
  {
   "cell_type": "code",
   "execution_count": 2,
   "metadata": {},
   "outputs": [],
   "source": [
    "import numpy as np\n",
    "import skfuzzy as fuzz\n",
    "from skfuzzy import control as ctrl"
   ]
  },
  {
   "cell_type": "code",
   "execution_count": 3,
   "metadata": {},
   "outputs": [],
   "source": [
    "temperatura = ctrl.Antecedent(np.arange(-20, 51, 1), 'temperatura')\n",
    "umidade_ar = ctrl.Antecedent(np.arange(0, 101, 1), 'umidade_ar')\n",
    "umidade_solo = ctrl.Antecedent(np.arange(0, 101, 1), 'umidade_solo')\n",
    "nivel_agua = ctrl.Antecedent(np.arange(0, 101, 1), 'nivel_agua')\n",
    "sistema = ctrl.Consequent(np.arange(12, 36, 1), 'sistema')\n",
    "\n",
    "sistema.defuzzify_method = 'centroid'"
   ]
  },
  {
   "cell_type": "code",
   "execution_count": 4,
   "metadata": {},
   "outputs": [],
   "source": [
    "temperatura['muito baixa'] = fuzz.trapmf(temperatura.universe, [-20, -20, -5, 0])\n",
    "temperatura['baixa'] = fuzz.trimf(temperatura.universe, [-5,10,18])\n",
    "temperatura['média'] = fuzz.trapmf(temperatura.universe, [15,20,25,28])\n",
    "temperatura['alta'] = fuzz.trimf(temperatura.universe, [25,28,39])\n",
    "temperatura['muito alta'] = fuzz.trapmf(temperatura.universe, [39,45,50,50])\n",
    "\n",
    "umidade_ar['baixa'] = fuzz.trimf(umidade_ar.universe, [0, 0, 30])\n",
    "umidade_ar['média'] = fuzz.trapmf(umidade_ar.universe, [25, 50, 80, 100])\n",
    "umidade_ar['alta'] = fuzz.trimf(umidade_ar.universe, [80, 100, 100])\n",
    "\n",
    "umidade_solo['baixa'] = fuzz.trimf(umidade_solo.universe, [0, 0, 30])\n",
    "umidade_solo['média'] = fuzz.trapmf(umidade_solo.universe, [25, 50, 80, 100])\n",
    "umidade_solo['alta'] = fuzz.trimf(umidade_solo.universe, [80, 100, 100])\n",
    "\n",
    "nivel_agua['baixa'] = fuzz.trapmf(nivel_agua.universe, [0, 0, 30, 40])\n",
    "nivel_agua['regular'] = fuzz.trimf(nivel_agua.universe, [28, 50, 72])\n",
    "nivel_agua['alta'] = fuzz.trapmf(nivel_agua.universe, [60, 80, 100, 100])\n",
    "\n",
    "sistema['resfriar2'] = fuzz.trimf(sistema.universe, [12, 12, 17])\n",
    "sistema['resfriar1'] = fuzz.trimf(sistema.universe, [15, 18, 20])\n",
    "sistema['desligar'] = fuzz.trimf(sistema.universe, [19, 22, 25])\n",
    "sistema['aquecer1'] = fuzz.trimf(sistema.universe, [22, 25, 27])\n",
    "sistema['aquecer2'] = fuzz.trapmf(sistema.universe, [25, 30, 35, 35])"
   ]
  },
  {
   "cell_type": "code",
   "execution_count": null,
   "metadata": {},
   "outputs": [],
   "source": []
  }
 ],
 "metadata": {
  "kernelspec": {
   "display_name": "Python 3",
   "language": "python",
   "name": "python3"
  },
  "language_info": {
   "codemirror_mode": {
    "name": "ipython",
    "version": 3
   },
   "file_extension": ".py",
   "mimetype": "text/x-python",
   "name": "python",
   "nbconvert_exporter": "python",
   "pygments_lexer": "ipython3",
   "version": "3.11.2"
  },
  "orig_nbformat": 4
 },
 "nbformat": 4,
 "nbformat_minor": 2
}
